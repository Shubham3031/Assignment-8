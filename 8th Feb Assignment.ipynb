{
 "cells": [
  {
   "cell_type": "code",
   "execution_count": 2,
   "id": "d4d2fbd4-01b5-45f8-80c0-5d04915dba68",
   "metadata": {},
   "outputs": [
    {
     "name": "stdout",
     "output_type": "stream",
     "text": [
      "The speed is 100kmph\n",
      "The speed is 50kmph\n",
      "The speed is 200kmph\n"
     ]
    }
   ],
   "source": [
    "# 1. Ans.\n",
    "\"\"\"\n",
    "Abstraction is used to hide the internal functionality of the function from the users.\n",
    "User is familiar with that \"what function does\" but they don't know \"how it does.\"\n",
    "In Python, abstraction is achieved through the use of abstract classes and interfaces.\n",
    "\n",
    "  Syntax:-\n",
    "from abc import ABC  \n",
    "class ClassName(ABC):\n",
    "\n",
    "\"\"\"\n",
    "    \n",
    " # Example :-\n",
    " \n",
    "from abc import ABC,abstractmethod\n",
    "class vehicle(ABC):\n",
    "    def speed(self):\n",
    "        pass\n",
    "class car(vehicle):\n",
    "    def speed(self):\n",
    "        print(\"The speed is 100kmph\")\n",
    "class bike(vehicle):\n",
    "    def speed(self):\n",
    "        print(\"The speed is 50kmph\")\n",
    "class train(vehicle):\n",
    "    def speed(self):\n",
    "        print(\"The speed is 200kmph\")\n",
    "        \n",
    "c = car()\n",
    "c.speed()\n",
    "\n",
    "b = bike()\n",
    "b.speed()\n",
    "\n",
    "t = train()\n",
    "t = t.speed()\n",
    "        \n",
    "    \n",
    "\n"
   ]
  },
  {
   "cell_type": "code",
   "execution_count": 3,
   "id": "02f670cd-0f3e-4caf-8ab7-42f0274862b1",
   "metadata": {},
   "outputs": [],
   "source": [
    "# 2.Ans.\n",
    "\n",
    "Abstraction is hiding the details and implementation of the code.\n",
    "Encapsulation is hiding the data and controlling the visibility of the code.\n",
    "\n",
    "Abstraction is a design level process.\n",
    "Encapsulation is an implementation level process.\n",
    "\n",
    "Abstraction is concerned about what a class instance can do, instead of the implementation of the class.\n",
    "Encapsulation helps in data binding and control over maintaining the transparency of the data.\n",
    "\n",
    "   Example :-\n",
    "    \n",
    "class BankAccount:\n",
    "    def __init__(self, account_number, balance):\n",
    "        self.__account_number = account_number \n",
    "        self.__balance = balance                \n",
    "        \n",
    "    def get_account_number(self):\n",
    "        return self.__account_number \n",
    "    \n",
    "    def deposit(self, amount):\n",
    "        self.__balance += amount     \n",
    "        \n",
    "    def withdraw(self, amount):\n",
    "        if amount <= self.__balance:\n",
    "            self.__balance -= amount \n",
    "        else:\n",
    "            print(\"Insufficient balance\")\n",
    "\n",
    "\n"
   ]
  },
  {
   "cell_type": "code",
   "execution_count": null,
   "id": "8405afed-914e-41ed-b4b8-152ddef09cde",
   "metadata": {},
   "outputs": [],
   "source": [
    "# 3.Ans.\n",
    "\n",
    "The abc module in Python stands for \"Abstract Base Classes\". \n",
    "It provides a way to define abstract classes and methods, which are classes \n",
    "and methods that are meant to be inherited and implemented by other classes, \n",
    "but not directly instantiated.\n",
    "\n",
    "The abc module is used to enforce a certain structure\n",
    "or behavior on classes that inherit from an abstract base class.\n",
    "\n",
    " Example\n",
    "    \n",
    "    class Dog(Animal):\n",
    "    def make_sound(self):\n",
    "        print(\"Bark\")\n",
    "\n",
    "d = Dog()\n",
    "d.make_sound()  \n",
    "\n",
    "    \n",
    "\n",
    "\n"
   ]
  },
  {
   "cell_type": "code",
   "execution_count": null,
   "id": "ed678f76-c42a-45cb-890a-d28459473f5b",
   "metadata": {},
   "outputs": [],
   "source": [
    "# 4.Ans.\n",
    "\n",
    "In Python, abstraction can be achieved by using abstract classes and interfaces.\n"
   ]
  },
  {
   "cell_type": "code",
   "execution_count": null,
   "id": "2bf80da6-4f0a-4b5b-8158-7dd44c0e1710",
   "metadata": {},
   "outputs": [],
   "source": [
    "# 5.Ans.\n",
    "\n",
    "No, we cannot create an instance of an abstract class in Python.\n",
    "An abstract class is a class that is designed to be subclassed \n",
    "and its abstract methods implemented in the derived class. \n",
    "It is not meant to be instantiated on its own, \n",
    "as it does not provide a complete implementation of its interface.\n",
    "When we try to create an instance of an abstract class in Python,\n",
    "we will get a TypeError with the message \"Can't instantiate abstract class\".\n",
    "This is because the abstract class itself does not provide\n",
    "a complete implementation of its interface, as it has one or \n",
    "more abstract methods that must be implemented by its subclasses."
   ]
  }
 ],
 "metadata": {
  "kernelspec": {
   "display_name": "Python 3 (ipykernel)",
   "language": "python",
   "name": "python3"
  },
  "language_info": {
   "codemirror_mode": {
    "name": "ipython",
    "version": 3
   },
   "file_extension": ".py",
   "mimetype": "text/x-python",
   "name": "python",
   "nbconvert_exporter": "python",
   "pygments_lexer": "ipython3",
   "version": "3.10.6"
  }
 },
 "nbformat": 4,
 "nbformat_minor": 5
}
